{
 "cells": [
  {
   "cell_type": "code",
   "execution_count": 7,
   "id": "46621747-2d77-46e2-a478-08c5f0996e9e",
   "metadata": {},
   "outputs": [
    {
     "name": "stdout",
     "output_type": "stream",
     "text": [
      "📊 Linear Regression\n",
      "Cross-validation RMSE scores: [14186.4640898  14303.77669531 14165.720539   14310.44081912\n",
      " 14242.9253483 ]\n",
      "Ortalama RMSE: 14241.87\n",
      "----------------------------------------\n",
      "📊 Decision Tree\n",
      "Cross-validation RMSE scores: [19121.1771061  19371.87221927 19212.6170044  19561.53115691\n",
      " 19071.25934573]\n",
      "Ortalama RMSE: 19267.69\n",
      "----------------------------------------\n"
     ]
    }
   ],
   "source": [
    "import pandas as pd\n",
    "import numpy as np\n",
    "from sklearn.model_selection import train_test_split, cross_val_score\n",
    "from sklearn.linear_model import LinearRegression\n",
    "from sklearn.tree import DecisionTreeRegressor\n",
    "from sklearn.metrics import make_scorer, mean_squared_error\n",
    "from sklearn.preprocessing import LabelEncoder\n",
    "\n",
    "# Veri setini yükle\n",
    "df = pd.read_csv(\"healthcare_dataset.csv\")\n",
    "\n",
    "# Sütun adlarını sadeleştir\n",
    "df.columns = df.columns.str.strip().str.lower().str.replace(\" \", \"_\", regex=False)\n",
    "\n",
    "# Tarih sütunlarını datetime'a çevir\n",
    "df[\"date_of_admission\"] = pd.to_datetime(df[\"date_of_admission\"])\n",
    "df[\"discharge_date\"] = pd.to_datetime(df[\"discharge_date\"])\n",
    "\n",
    "# Length of stay sütununu oluştur\n",
    "df[\"length_of_stay\"] = (df[\"discharge_date\"] - df[\"date_of_admission\"]).dt.days\n",
    "\n",
    "# Tarih sütunlarını çıkar\n",
    "df.drop([\"date_of_admission\", \"discharge_date\"], axis=1, inplace=True)\n",
    "\n",
    "# Hedef ve özellikler\n",
    "y = df['billing_amount']\n",
    "X = df.drop('billing_amount', axis=1)\n",
    "\n",
    "# Veriyi eğitim ve test olarak ayır\n",
    "X_train, X_test, y_train, y_test = train_test_split(X, y, test_size=0.2, random_state=42)\n",
    "\n",
    "# LabelEncoder'ları her sütun için ayrı sakla\n",
    "label_encoders = {}\n",
    "\n",
    "from sklearn.preprocessing import OrdinalEncoder\n",
    "\n",
    "categorical_cols = [col for col in X_train.columns if X_train[col].dtype == 'object']\n",
    "\n",
    "# Küçük harfe çevirme (normalize etmek için)\n",
    "for col in categorical_cols:\n",
    "    X_train[col] = X_train[col].str.lower()\n",
    "    X_test[col] = X_test[col].str.lower()\n",
    "\n",
    "# OrdinalEncoder ile encode et, bilinmeyen kategoriler -1 olarak kodlanacak\n",
    "encoder = OrdinalEncoder(handle_unknown='use_encoded_value', unknown_value=-1)\n",
    "\n",
    "# fit_transform sadece eğitim setinde\n",
    "X_train[categorical_cols] = encoder.fit_transform(X_train[categorical_cols])\n",
    "\n",
    "# transform test setinde, yeni kategoriler -1 olarak kodlanır, hata vermez\n",
    "X_test[categorical_cols] = encoder.transform(X_test[categorical_cols])\n",
    "\n",
    "\n",
    "# Model ve skor ayarlaması\n",
    "mse_scorer = make_scorer(mean_squared_error, greater_is_better=False)\n",
    "\n",
    "models = {\n",
    "    \"Linear Regression\": LinearRegression(),\n",
    "    \"Decision Tree\": DecisionTreeRegressor(random_state=42)\n",
    "}\n",
    "\n",
    "for name, model in models.items():\n",
    "    scores = cross_val_score(model, X_train, y_train, scoring=mse_scorer, cv=5)\n",
    "    rmse_scores = np.sqrt(-scores)\n",
    "    \n",
    "    print(f\"📊 {name}\")\n",
    "    print(f\"Cross-validation RMSE scores: {rmse_scores}\")\n",
    "    print(f\"Ortalama RMSE: {rmse_scores.mean():.2f}\")\n",
    "    print(\"-\" * 40)\n"
   ]
  },
  {
   "cell_type": "code",
   "execution_count": 8,
   "id": "332a647e-a0f5-4031-a542-d6207d179435",
   "metadata": {},
   "outputs": [
    {
     "name": "stdout",
     "output_type": "stream",
     "text": [
      "🔍 En iyi hiperparametreler:\n",
      "{'max_depth': 3, 'min_samples_leaf': 1, 'min_samples_split': 2}\n"
     ]
    }
   ],
   "source": [
    "from sklearn.model_selection import GridSearchCV\n",
    "\n",
    "# Parametre aralığı\n",
    "param_grid = {\n",
    "    'max_depth': [3, 5, 10, None],\n",
    "    'min_samples_split': [2, 5, 10],\n",
    "    'min_samples_leaf': [1, 2, 4]\n",
    "}\n",
    "\n",
    "# GridSearchCV\n",
    "grid_search = GridSearchCV(\n",
    "    estimator=DecisionTreeRegressor(random_state=42),\n",
    "    param_grid=param_grid,\n",
    "    scoring='neg_mean_squared_error',\n",
    "    cv=5,\n",
    "    n_jobs=-1\n",
    ")\n",
    "\n",
    "# Eğitim verisiyle fit et\n",
    "grid_search.fit(X_train, y_train)\n",
    "\n",
    "# Sonuçları al\n",
    "best_model = grid_search.best_estimator_\n",
    "best_params = grid_search.best_params_\n",
    "\n",
    "print(\"🔍 En iyi hiperparametreler:\")\n",
    "print(best_params)\n"
   ]
  },
  {
   "cell_type": "code",
   "execution_count": 9,
   "id": "3ee8917c-cc89-4d92-83e6-af4f94d610bb",
   "metadata": {},
   "outputs": [
    {
     "name": "stdout",
     "output_type": "stream",
     "text": [
      "📈 Test Verisi Performansı\n",
      "MAE: 12445.51\n",
      "RMSE: 14521.56\n",
      "R² Skoru: -0.0602\n"
     ]
    }
   ],
   "source": [
    "from sklearn.metrics import mean_absolute_error, mean_squared_error, r2_score\n",
    "\n",
    "y_pred = best_model.predict(X_test)\n",
    "\n",
    "mae = mean_absolute_error(y_test, y_pred)\n",
    "mse = mean_squared_error(y_test, y_pred)\n",
    "rmse = np.sqrt(mse)\n",
    "r2 = r2_score(y_test, y_pred)\n",
    "\n",
    "print(\"📈 Test Verisi Performansı\")\n",
    "print(f\"MAE: {mae:.2f}\")\n",
    "print(f\"RMSE: {rmse:.2f}\")\n",
    "print(f\"R² Skoru: {r2:.4f}\")"
   ]
  },
  {
   "cell_type": "code",
   "execution_count": 10,
   "id": "0795ef5f-bd1d-4a39-9769-a323cb7227e8",
   "metadata": {},
   "outputs": [
    {
     "name": "stdout",
     "output_type": "stream",
     "text": [
      "📈 Test Verisi Değerlendirme Sonuçları\n",
      "Mean Absolute Error (MAE): 12445.51\n",
      "Mean Squared Error (MSE): 210875689.20\n",
      "Root Mean Squared Error (RMSE): 14521.56\n",
      "R² Score: -0.0602\n"
     ]
    }
   ],
   "source": [
    "from sklearn.metrics import mean_absolute_error, mean_squared_error, r2_score\n",
    "import numpy as np\n",
    "\n",
    "# Test seti tahmini\n",
    "y_pred = best_model.predict(X_test)\n",
    "\n",
    "# Değerlendirme\n",
    "mae = mean_absolute_error(y_test, y_pred)\n",
    "mse = mean_squared_error(y_test, y_pred)\n",
    "rmse = np.sqrt(mse)\n",
    "r2 = r2_score(y_test, y_pred)\n",
    "\n",
    "print(\"📈 Test Verisi Değerlendirme Sonuçları\")\n",
    "print(f\"Mean Absolute Error (MAE): {mae:.2f}\")\n",
    "print(f\"Mean Squared Error (MSE): {mse:.2f}\")\n",
    "print(f\"Root Mean Squared Error (RMSE): {rmse:.2f}\")\n",
    "print(f\"R² Score: {r2:.4f}\")"
   ]
  },
  {
   "cell_type": "code",
   "execution_count": null,
   "id": "3e6c1f80-bef8-4093-9b54-49147ee33036",
   "metadata": {},
   "outputs": [],
   "source": []
  }
 ],
 "metadata": {
  "kernelspec": {
   "display_name": "Python 3 (ipykernel)",
   "language": "python",
   "name": "python3"
  },
  "language_info": {
   "codemirror_mode": {
    "name": "ipython",
    "version": 3
   },
   "file_extension": ".py",
   "mimetype": "text/x-python",
   "name": "python",
   "nbconvert_exporter": "python",
   "pygments_lexer": "ipython3",
   "version": "3.12.7"
  }
 },
 "nbformat": 4,
 "nbformat_minor": 5
}
