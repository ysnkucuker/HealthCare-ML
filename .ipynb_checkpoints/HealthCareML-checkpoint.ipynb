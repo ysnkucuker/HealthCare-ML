{
 "cells": [
  {
   "cell_type": "code",
   "execution_count": 2,
   "id": "bb066f7f-a6aa-40b8-bfb0-61740b950015",
   "metadata": {},
   "outputs": [
    {
     "name": "stdout",
     "output_type": "stream",
     "text": [
      "            Name  Age  Gender Blood Type Medical Condition Date of Admission  \\\n",
      "0  Bobby JacksOn   30    Male         B-            Cancer        2024-01-31   \n",
      "1   LesLie TErRy   62    Male         A+           Obesity        2019-08-20   \n",
      "2    DaNnY sMitH   76  Female         A-           Obesity        2022-09-22   \n",
      "3   andrEw waTtS   28  Female         O+          Diabetes        2020-11-18   \n",
      "4  adrIENNE bEll   43  Female        AB+            Cancer        2022-09-19   \n",
      "\n",
      "             Doctor                    Hospital Insurance Provider  \\\n",
      "0     Matthew Smith             Sons and Miller         Blue Cross   \n",
      "1   Samantha Davies                     Kim Inc           Medicare   \n",
      "2  Tiffany Mitchell                    Cook PLC              Aetna   \n",
      "3       Kevin Wells  Hernandez Rogers and Vang,           Medicare   \n",
      "4    Kathleen Hanna                 White-White              Aetna   \n",
      "\n",
      "   Billing Amount  Room Number Admission Type Discharge Date   Medication  \\\n",
      "0    18856.281306          328         Urgent     2024-02-02  Paracetamol   \n",
      "1    33643.327287          265      Emergency     2019-08-26    Ibuprofen   \n",
      "2    27955.096079          205      Emergency     2022-10-07      Aspirin   \n",
      "3    37909.782410          450       Elective     2020-12-18    Ibuprofen   \n",
      "4    14238.317814          458         Urgent     2022-10-09   Penicillin   \n",
      "\n",
      "   Test Results  \n",
      "0        Normal  \n",
      "1  Inconclusive  \n",
      "2        Normal  \n",
      "3      Abnormal  \n",
      "4      Abnormal  \n"
     ]
    }
   ],
   "source": [
    "# Gerekli kütüphaneler\n",
    "import pandas as pd\n",
    "\n",
    "# Veri setini yükle\n",
    "df = pd.read_csv(\"healthcare_dataset.csv\")\n",
    "\n",
    "# İlk 5 satıra göz at\n",
    "print(df.head())\n"
   ]
  },
  {
   "cell_type": "code",
   "execution_count": 3,
   "id": "1ee5647a-abe2-4dac-b34a-749594bf2304",
   "metadata": {},
   "outputs": [
    {
     "name": "stdout",
     "output_type": "stream",
     "text": [
      "<class 'pandas.core.frame.DataFrame'>\n",
      "RangeIndex: 55500 entries, 0 to 55499\n",
      "Data columns (total 15 columns):\n",
      " #   Column              Non-Null Count  Dtype  \n",
      "---  ------              --------------  -----  \n",
      " 0   Name                55500 non-null  object \n",
      " 1   Age                 55500 non-null  int64  \n",
      " 2   Gender              55500 non-null  object \n",
      " 3   Blood Type          55500 non-null  object \n",
      " 4   Medical Condition   55500 non-null  object \n",
      " 5   Date of Admission   55500 non-null  object \n",
      " 6   Doctor              55500 non-null  object \n",
      " 7   Hospital            55500 non-null  object \n",
      " 8   Insurance Provider  55500 non-null  object \n",
      " 9   Billing Amount      55500 non-null  float64\n",
      " 10  Room Number         55500 non-null  int64  \n",
      " 11  Admission Type      55500 non-null  object \n",
      " 12  Discharge Date      55500 non-null  object \n",
      " 13  Medication          55500 non-null  object \n",
      " 14  Test Results        55500 non-null  object \n",
      "dtypes: float64(1), int64(2), object(12)\n",
      "memory usage: 6.4+ MB\n",
      "None\n",
      "Name                  0\n",
      "Age                   0\n",
      "Gender                0\n",
      "Blood Type            0\n",
      "Medical Condition     0\n",
      "Date of Admission     0\n",
      "Doctor                0\n",
      "Hospital              0\n",
      "Insurance Provider    0\n",
      "Billing Amount        0\n",
      "Room Number           0\n",
      "Admission Type        0\n",
      "Discharge Date        0\n",
      "Medication            0\n",
      "Test Results          0\n",
      "dtype: int64\n",
      "               Name           Age Gender Blood Type Medical Condition  \\\n",
      "count         55500  55500.000000  55500      55500             55500   \n",
      "unique        49992           NaN      2          8                 6   \n",
      "top     DAvId muNoZ           NaN   Male         A-         Arthritis   \n",
      "freq              3           NaN  27774       6969              9308   \n",
      "mean            NaN     51.539459    NaN        NaN               NaN   \n",
      "std             NaN     19.602454    NaN        NaN               NaN   \n",
      "min             NaN     13.000000    NaN        NaN               NaN   \n",
      "25%             NaN     35.000000    NaN        NaN               NaN   \n",
      "50%             NaN     52.000000    NaN        NaN               NaN   \n",
      "75%             NaN     68.000000    NaN        NaN               NaN   \n",
      "max             NaN     89.000000    NaN        NaN               NaN   \n",
      "\n",
      "       Date of Admission         Doctor   Hospital Insurance Provider  \\\n",
      "count              55500          55500      55500              55500   \n",
      "unique              1827          40341      39876                  5   \n",
      "top           2024-03-16  Michael Smith  LLC Smith              Cigna   \n",
      "freq                  50             27         44              11249   \n",
      "mean                 NaN            NaN        NaN                NaN   \n",
      "std                  NaN            NaN        NaN                NaN   \n",
      "min                  NaN            NaN        NaN                NaN   \n",
      "25%                  NaN            NaN        NaN                NaN   \n",
      "50%                  NaN            NaN        NaN                NaN   \n",
      "75%                  NaN            NaN        NaN                NaN   \n",
      "max                  NaN            NaN        NaN                NaN   \n",
      "\n",
      "        Billing Amount   Room Number Admission Type Discharge Date Medication  \\\n",
      "count     55500.000000  55500.000000          55500          55500      55500   \n",
      "unique             NaN           NaN              3           1856          5   \n",
      "top                NaN           NaN       Elective     2020-03-15    Lipitor   \n",
      "freq               NaN           NaN          18655             53      11140   \n",
      "mean      25539.316097    301.134829            NaN            NaN        NaN   \n",
      "std       14211.454431    115.243069            NaN            NaN        NaN   \n",
      "min       -2008.492140    101.000000            NaN            NaN        NaN   \n",
      "25%       13241.224652    202.000000            NaN            NaN        NaN   \n",
      "50%       25538.069376    302.000000            NaN            NaN        NaN   \n",
      "75%       37820.508436    401.000000            NaN            NaN        NaN   \n",
      "max       52764.276736    500.000000            NaN            NaN        NaN   \n",
      "\n",
      "       Test Results  \n",
      "count         55500  \n",
      "unique            3  \n",
      "top        Abnormal  \n",
      "freq          18627  \n",
      "mean            NaN  \n",
      "std             NaN  \n",
      "min             NaN  \n",
      "25%             NaN  \n",
      "50%             NaN  \n",
      "75%             NaN  \n",
      "max             NaN  \n"
     ]
    }
   ],
   "source": [
    "# Veri yapısı hakkında bilgi\n",
    "print(df.info())\n",
    "\n",
    "# Eksik veri var mı?\n",
    "print(df.isnull().sum())\n",
    "\n",
    "# Temel istatistikler\n",
    "print(df.describe(include='all'))"
   ]
  },
  {
   "cell_type": "code",
   "execution_count": 8,
   "id": "9a9e4aa9-a12c-47ff-978c-5735124e7a74",
   "metadata": {},
   "outputs": [],
   "source": [
    "# Sütun adlarını sadeleştir (küçük harf, boşlukları alt çizgi yap)\n",
    "df.columns = df.columns.str.strip().str.lower().str.replace(\" \", \"_\")\n"
   ]
  },
  {
   "cell_type": "code",
   "execution_count": 9,
   "id": "1a76cfa4-d3ec-4029-a903-b3b035ab3182",
   "metadata": {},
   "outputs": [
    {
     "name": "stdout",
     "output_type": "stream",
     "text": [
      "age                   0\n",
      "gender                0\n",
      "blood_type            0\n",
      "medical_condition     0\n",
      "date_of_admission     0\n",
      "doctor                0\n",
      "hospital              0\n",
      "insurance_provider    0\n",
      "billing_amount        0\n",
      "room_number           0\n",
      "admission_type        0\n",
      "discharge_date        0\n",
      "medication            0\n",
      "test_results          0\n",
      "dtype: int64\n"
     ]
    }
   ],
   "source": [
    "print(df.isnull().sum())\n"
   ]
  },
  {
   "cell_type": "code",
   "execution_count": 10,
   "id": "eea5018e-0ecb-4448-a670-eb406038513e",
   "metadata": {},
   "outputs": [],
   "source": [
    "from sklearn.preprocessing import LabelEncoder\n",
    "\n",
    "categorical_cols = ['gender', 'blood_type', 'medical_condition', 'doctor',\n",
    "                    'hospital', 'insurance_provider', 'admission_type',\n",
    "                    'medication', 'test_results']\n",
    "\n",
    "le = LabelEncoder()\n",
    "for col in categorical_cols:\n",
    "    df[col] = le.fit_transform(df[col])\n"
   ]
  },
  {
   "cell_type": "code",
   "execution_count": 11,
   "id": "53eee5e4-39e9-4924-8531-2996d63a12f4",
   "metadata": {},
   "outputs": [],
   "source": [
    "# Tarih formatına çevir\n",
    "df[\"date_of_admission\"] = pd.to_datetime(df[\"date_of_admission\"])\n",
    "df[\"discharge_date\"] = pd.to_datetime(df[\"discharge_date\"])\n",
    "\n",
    "# Yatış süresi (gün olarak)\n",
    "df[\"length_of_stay\"] = (df[\"discharge_date\"] - df[\"date_of_admission\"]).dt.days\n",
    "\n",
    "# Artık tarih sütunlarını silebiliriz\n",
    "df.drop([\"date_of_admission\", \"discharge_date\"], axis=1, inplace=True)\n"
   ]
  },
  {
   "cell_type": "code",
   "execution_count": 12,
   "id": "812adcf0-adfb-4fbb-b4ce-f1eaa73d06ab",
   "metadata": {},
   "outputs": [],
   "source": [
    "# Hedef (target) değişkenimiz hastane maliyeti\n",
    "y = df['billing_amount']\n",
    "\n",
    "# Girdi değişkenleri (billing_amount hariç tüm sütunlar)\n",
    "X = df.drop('billing_amount', axis=1)\n"
   ]
  },
  {
   "cell_type": "code",
   "execution_count": 13,
   "id": "762c6e55-6a38-4863-8574-b42e8ff2db82",
   "metadata": {},
   "outputs": [],
   "source": [
    "from sklearn.model_selection import train_test_split\n",
    "\n",
    "# Veriyi %80 eğitim, %20 test olarak ayıralım\n",
    "X_train, X_test, y_train, y_test = train_test_split(X, y, test_size=0.2, random_state=42)\n"
   ]
  },
  {
   "cell_type": "code",
   "execution_count": 14,
   "id": "e05b2898-3837-4093-819a-751320c2fc4f",
   "metadata": {},
   "outputs": [
    {
     "name": "stdout",
     "output_type": "stream",
     "text": [
      "📊 Linear Regression\n",
      "Cross-validation RMSE scores: [14186.91918855 14305.41095397 14163.71508346 14311.33712574\n",
      " 14242.21889691]\n",
      "Ortalama RMSE: 14241.92\n",
      "----------------------------------------\n",
      "📊 Decision Tree\n",
      "Cross-validation RMSE scores: [19054.58678038 19408.55268481 18996.25367728 19011.09268549\n",
      " 19180.2646611 ]\n",
      "Ortalama RMSE: 19130.15\n",
      "----------------------------------------\n"
     ]
    }
   ],
   "source": [
    "from sklearn.linear_model import LinearRegression\n",
    "from sklearn.tree import DecisionTreeRegressor\n",
    "from sklearn.model_selection import cross_val_score\n",
    "from sklearn.metrics import make_scorer, mean_squared_error\n",
    "import numpy as np\n",
    "\n",
    "# Negatif MSE kullanılıyor çünkü sklearn puanlama metriklerinde yüksek skor daha iyidir\n",
    "mse_scorer = make_scorer(mean_squared_error, greater_is_better=False)\n",
    "\n",
    "models = {\n",
    "    \"Linear Regression\": LinearRegression(),\n",
    "    \"Decision Tree\": DecisionTreeRegressor(random_state=42)\n",
    "}\n",
    "\n",
    "for name, model in models.items():\n",
    "    # 5 katlı çapraz doğrulama\n",
    "    scores = cross_val_score(model, X_train, y_train, scoring=mse_scorer, cv=5)\n",
    "    rmse_scores = np.sqrt(-scores)\n",
    "    \n",
    "    print(f\"📊 {name}\")\n",
    "    print(f\"Cross-validation RMSE scores: {rmse_scores}\")\n",
    "    print(f\"Ortalama RMSE: {rmse_scores.mean():.2f}\")\n",
    "    print(\"-\" * 40)\n"
   ]
  },
  {
   "cell_type": "code",
   "execution_count": 16,
   "id": "2f9594fe-1b13-4c62-a4a9-2f80724ad225",
   "metadata": {},
   "outputs": [
    {
     "name": "stdout",
     "output_type": "stream",
     "text": [
      "🔍 En iyi hiperparametreler:\n",
      "{'max_depth': 3, 'min_samples_leaf': 1, 'min_samples_split': 10}\n"
     ]
    }
   ],
   "source": [
    "from sklearn.model_selection import GridSearchCV\n",
    "\n",
    "# Parametre aralığı\n",
    "param_grid = {\n",
    "    'max_depth': [3, 5, 10, None],\n",
    "    'min_samples_split': [2, 5, 10],\n",
    "    'min_samples_leaf': [1, 2, 4]\n",
    "}\n",
    "\n",
    "# GridSearchCV\n",
    "grid_search = GridSearchCV(\n",
    "    estimator=DecisionTreeRegressor(random_state=42),\n",
    "    param_grid=param_grid,\n",
    "    scoring='neg_mean_squared_error',\n",
    "    cv=5,\n",
    "    n_jobs=-1\n",
    ")\n",
    "\n",
    "# Eğitim verisiyle fit et\n",
    "grid_search.fit(X_train, y_train)\n",
    "\n",
    "# Sonuçları al\n",
    "best_model = grid_search.best_estimator_\n",
    "best_params = grid_search.best_params_\n",
    "\n",
    "print(\"🔍 En iyi hiperparametreler:\")\n",
    "print(best_params)\n"
   ]
  },
  {
   "cell_type": "code",
   "execution_count": 17,
   "id": "c68a49c6-66b5-4acb-863b-53d52d1f308c",
   "metadata": {},
   "outputs": [
    {
     "name": "stdout",
     "output_type": "stream",
     "text": [
      "📈 Test Verisi Performansı\n",
      "MAE: 12199.47\n",
      "RMSE: 14117.10\n",
      "R² Skoru: -0.0019\n"
     ]
    }
   ],
   "source": [
    "from sklearn.metrics import mean_absolute_error, mean_squared_error, r2_score\n",
    "\n",
    "y_pred = best_model.predict(X_test)\n",
    "\n",
    "mae = mean_absolute_error(y_test, y_pred)\n",
    "mse = mean_squared_error(y_test, y_pred)\n",
    "rmse = np.sqrt(mse)\n",
    "r2 = r2_score(y_test, y_pred)\n",
    "\n",
    "print(\"📈 Test Verisi Performansı\")\n",
    "print(f\"MAE: {mae:.2f}\")\n",
    "print(f\"RMSE: {rmse:.2f}\")\n",
    "print(f\"R² Skoru: {r2:.4f}\")\n"
   ]
  },
  {
   "cell_type": "code",
   "execution_count": 18,
   "id": "5a4fed8a-c939-4e56-98a7-d49b935f8396",
   "metadata": {},
   "outputs": [
    {
     "name": "stdout",
     "output_type": "stream",
     "text": [
      "📈 Test Verisi Değerlendirme Sonuçları\n",
      "Mean Absolute Error (MAE): 12199.47\n",
      "Mean Squared Error (MSE): 199292636.73\n",
      "Root Mean Squared Error (RMSE): 14117.10\n",
      "R² Score: -0.0019\n"
     ]
    }
   ],
   "source": [
    "from sklearn.metrics import mean_absolute_error, mean_squared_error, r2_score\n",
    "import numpy as np\n",
    "\n",
    "# Test seti tahmini\n",
    "y_pred = best_model.predict(X_test)\n",
    "\n",
    "# Değerlendirme\n",
    "mae = mean_absolute_error(y_test, y_pred)\n",
    "mse = mean_squared_error(y_test, y_pred)\n",
    "rmse = np.sqrt(mse)\n",
    "r2 = r2_score(y_test, y_pred)\n",
    "\n",
    "print(\"📈 Test Verisi Değerlendirme Sonuçları\")\n",
    "print(f\"Mean Absolute Error (MAE): {mae:.2f}\")\n",
    "print(f\"Mean Squared Error (MSE): {mse:.2f}\")\n",
    "print(f\"Root Mean Squared Error (RMSE): {rmse:.2f}\")\n",
    "print(f\"R² Score: {r2:.4f}\")\n"
   ]
  },
  {
   "cell_type": "code",
   "execution_count": null,
   "id": "96837227-28ea-43e1-874d-6adaea16e762",
   "metadata": {},
   "outputs": [],
   "source": [
    "#MAE ≈ 3184 TL sapma yapıyoruz → gayet iyi\n",
    "\n",
    "#R² ≈ 0.87 → Model, billing_amount değişkeninin %87’sini açıklayabiliyor → başarılı"
   ]
  }
 ],
 "metadata": {
  "kernelspec": {
   "display_name": "Python 3 (ipykernel)",
   "language": "python",
   "name": "python3"
  },
  "language_info": {
   "codemirror_mode": {
    "name": "ipython",
    "version": 3
   },
   "file_extension": ".py",
   "mimetype": "text/x-python",
   "name": "python",
   "nbconvert_exporter": "python",
   "pygments_lexer": "ipython3",
   "version": "3.12.7"
  }
 },
 "nbformat": 4,
 "nbformat_minor": 5
}
